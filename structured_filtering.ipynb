{
 "cells": [
  {
   "cell_type": "code",
   "execution_count": 37,
   "metadata": {},
   "outputs": [],
   "source": [
    "# AIQ 구성 종목들의 PBR 계산\n",
    "\n",
    "from langchain.vectorstores import Chroma\n",
    "\n",
    "def get_vectordb():\n",
    "\n",
    "    persist_directory='db'\n",
    "\n",
    "    vectordb = Chroma( # 기존 벡터 DB 로드\n",
    "        persist_directory=persist_directory,\n",
    "    )\n",
    "    \n",
    "    return vectordb\n",
    "\n",
    "vectordb = get_vectordb()"
   ]
  },
  {
   "cell_type": "markdown",
   "metadata": {},
   "source": [
    "### 01 잠재 가치 높은\n",
    "- 가치주 효과: \"내재 가치 대비 낮은 가격의 주식이, 내재 가격 대비 비싼 주식보도 수익률이 높음\"을 이용하는 전략.\n",
    "- 사람들이 가치주(저밸류)를 기피하고 성장주(고밸류)를 선호하기 때문. 사람들이 기피했기 때문에 가치주가 되었다고도 볼 수 있다."
   ]
  },
  {
   "cell_type": "code",
   "execution_count": 39,
   "metadata": {},
   "outputs": [],
   "source": [
    "MY_ETF = \"AIQ\"\n",
    "\n",
    "from core.gpt_semantic_search import get_filter\n",
    "\n",
    "filter_list = get_filter(etf_tkr=MY_ETF)"
   ]
  },
  {
   "cell_type": "code",
   "execution_count": 42,
   "metadata": {},
   "outputs": [],
   "source": [
    "docs_list = vectordb.get(where={'$or': filter_list})"
   ]
  },
  {
   "cell_type": "markdown",
   "metadata": {},
   "source": [
    "- PBR 하위(저평가) 20%"
   ]
  },
  {
   "cell_type": "code",
   "execution_count": 60,
   "metadata": {},
   "outputs": [
    {
     "data": {
      "text/plain": [
       "[(0.19906114, 'BIDU'),\n",
       " (0.27867314, 'STNE'),\n",
       " (0.5261802, 'BZ'),\n",
       " (0.5334392, 'VSAT'),\n",
       " (1.0539666, 'HPE'),\n",
       " (1.0781606, 'TWLO'),\n",
       " (1.3169729, 'DXC'),\n",
       " (1.3784668, 'INTC'),\n",
       " (1.5226084, 'ERIC'),\n",
       " (2.1189275, 'OKTA'),\n",
       " (2.6029758, 'VRNT')]"
      ]
     },
     "execution_count": 60,
     "metadata": {},
     "output_type": "execute_result"
    }
   ],
   "source": [
    "def get_lowest_PBR_stks(docs_list):\n",
    "\n",
    "    PBR_KEY = \"priceToBook\"\n",
    "    SYMBOL_KEY = \"symbol\"\n",
    "\n",
    "    pbr_list = []\n",
    "\n",
    "    for docs in docs_list['metadatas']:\n",
    "        if PBR_KEY in docs.keys():\n",
    "            pbr_list.append((docs[PBR_KEY], docs[SYMBOL_KEY]))\n",
    "\n",
    "    pbr_list.sort()\n",
    "    pbr_list[:round(len(pbr_list)*0.2)]"
   ]
  },
  {
   "cell_type": "markdown",
   "metadata": {},
   "source": [
    "### 02 꾸준히 우상향 하는\n",
    "\n",
    "- 모멘텀 좋은 주식들입니다\n",
    "\n",
    "$\n",
    "\\text{K-ratio} = {\\text{Gradient of Cumulative Returs} \\over \\text{Standard Error}}\n",
    "$"
   ]
  },
  {
   "cell_type": "code",
   "execution_count": 81,
   "metadata": {},
   "outputs": [],
   "source": []
  },
  {
   "cell_type": "code",
   "execution_count": 105,
   "metadata": {},
   "outputs": [
    {
     "data": {
      "application/vnd.jupyter.widget-view+json": {
       "model_id": "be4cf14d5b2b41fca64ec29fc593811a",
       "version_major": 2,
       "version_minor": 0
      },
      "text/plain": [
       "  0%|          | 0/59 [00:00<?, ?it/s]"
      ]
     },
     "metadata": {},
     "output_type": "display_data"
    }
   ],
   "source": [
    "from data.get_data import get_prices_df\n",
    "\n",
    "import statsmodels.api as sm\n",
    "import numpy as np\n",
    "\n",
    "\n",
    "def get_momentums(filter_list):\n",
    "\n",
    "    def get_k_ratio(prices_df):\n",
    "\n",
    "        prices_df = prices_df.dropna()\n",
    "\n",
    "        ret = prices_df.pct_change().iloc[1:]\n",
    "\n",
    "        ret_cum = np.log(1+ret).cumsum()\n",
    "\n",
    "        x = np.array(range(len(ret)))\n",
    "        y = ret_cum.iloc[:].values\n",
    "\n",
    "        reg = sm.OLS(y, x).fit()\n",
    "\n",
    "        return (reg.params/reg.bse) # K-ratio\n",
    "\n",
    "\n",
    "    tickers = [fltr['symbol'] for fltr in filter_list]\n",
    "\n",
    "    prices_df = get_prices_df(\n",
    "        tickers=tickers,\n",
    "        start_date=\"2022-08-29\"\n",
    "    )\n",
    "\n",
    "    kratio_list = []\n",
    "\n",
    "    for t in tickers:\n",
    "\n",
    "        kratio = get_k_ratio(prices_df=prices_df[t.lower()])\n",
    "\n",
    "        kratio_list.append((round(kratio[0], 2), t))\n",
    "\n",
    "    kratio_list.sort(reverse=True)\n",
    "\n",
    "    return kratio_list[:round(len(kratio_list)*0.2)]"
   ]
  },
  {
   "cell_type": "code",
   "execution_count": 112,
   "metadata": {},
   "outputs": [
    {
     "data": {
      "text/plain": [
       "[(103.16, 'META'),\n",
       " (88.03, 'NVDA'),\n",
       " (75.48, 'TTD'),\n",
       " (75.28, 'AAPL'),\n",
       " (67.96, 'CDNS'),\n",
       " (64.71, 'ORCL'),\n",
       " (64.32, 'SNPS'),\n",
       " (60.47, 'CRM'),\n",
       " (58.74, 'AMZN'),\n",
       " (57.23, 'UBER'),\n",
       " (51.63, 'GOOGL'),\n",
       " (49.79, 'TRI')]"
      ]
     },
     "execution_count": 112,
     "metadata": {},
     "output_type": "execute_result"
    }
   ],
   "source": []
  }
 ],
 "metadata": {
  "kernelspec": {
   "display_name": "bt",
   "language": "python",
   "name": "python3"
  },
  "language_info": {
   "codemirror_mode": {
    "name": "ipython",
    "version": 3
   },
   "file_extension": ".py",
   "mimetype": "text/x-python",
   "name": "python",
   "nbconvert_exporter": "python",
   "pygments_lexer": "ipython3",
   "version": "3.10.12"
  },
  "orig_nbformat": 4
 },
 "nbformat": 4,
 "nbformat_minor": 2
}
