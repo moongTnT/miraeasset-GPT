{
 "cells": [
  {
   "cell_type": "markdown",
   "metadata": {},
   "source": [
    "### 02 Vector Database에 특정 키워드로 유사도 검색 후, 유사도 내림차순으로 종목명을 정렬합니다.\n",
    "- 유사도: cosine similarity\n",
    "- vector database(ChromaDB) API: https://api.python.langchain.com/en/latest/vectorstores/langchain.vectorstores.chroma.Chroma.html"
   ]
  },
  {
   "cell_type": "markdown",
   "metadata": {},
   "source": [
    "#### 02.1 vectordb 불러오기"
   ]
  },
  {
   "cell_type": "code",
   "execution_count": 10,
   "metadata": {},
   "outputs": [],
   "source": [
    "from langchain.vectorstores import Chroma\n",
    "from langchain.embeddings import OpenAIEmbeddings\n",
    "\n",
    "import os, json\n",
    "\n",
    "def get_vectordb():\n",
    "    with open('conf.json', 'r') as f:\n",
    "        json_data = json.load(f)\n",
    "\n",
    "    os.environ['OPENAI_API_KEY'] = json_data['API_KEY']\n",
    "\n",
    "    persist_directory='db'\n",
    "\n",
    "    embedding = OpenAIEmbeddings(\n",
    "        model='text-embedding-ada-002'\n",
    "    )\n",
    "\n",
    "    vectordb = Chroma( # 기존 벡터 DB 로드\n",
    "        persist_directory=persist_directory,\n",
    "        embedding_function=embedding\n",
    "    )\n",
    "    \n",
    "    return vectordb\n",
    "\n",
    "vectordb = get_vectordb()"
   ]
  },
  {
   "cell_type": "markdown",
   "metadata": {},
   "source": [
    "#### 02.2 특정 지수의 구성종목 불러오기\n",
    "- 필터링 후 유사도 검색 하기 위함입니다."
   ]
  },
  {
   "cell_type": "code",
   "execution_count": 11,
   "metadata": {},
   "outputs": [],
   "source": [
    "from data.fetch_data import fetch_pdf_info\n",
    "\n",
    "import pandas as pd\n",
    "\n",
    "def get_filter(etf_tkr='AIQ'):\n",
    "\n",
    "    pdf = fetch_pdf_info(etf_tkr=etf_tkr)\n",
    "\n",
    "    pdf_df = pd.DataFrame(pdf)\n",
    "\n",
    "    filter_list = []\n",
    "\n",
    "    for i, row in pdf_df.iterrows():\n",
    "\n",
    "        my_dict = {}\n",
    "\n",
    "        symbol = row.child_stk_tkr\n",
    "\n",
    "        my_dict['symbol'] = symbol\n",
    "\n",
    "        filter_list.append(my_dict)\n",
    "        \n",
    "    return filter_list\n",
    "\n",
    "filter_list = get_filter(etf_tkr=\"AIQ\")"
   ]
  },
  {
   "cell_type": "code",
   "execution_count": 12,
   "metadata": {},
   "outputs": [
    {
     "data": {
      "text/plain": [
       "['PEGA',\n",
       " 'NOW',\n",
       " 'ORCL',\n",
       " 'IBM',\n",
       " 'ZS',\n",
       " 'MSFT',\n",
       " 'META',\n",
       " 'TWLO',\n",
       " 'HPE',\n",
       " 'ADBE',\n",
       " 'GOOGL',\n",
       " 'WDAY',\n",
       " 'ACN',\n",
       " 'AMZN',\n",
       " 'CRM',\n",
       " 'INFA',\n",
       " 'SHOP',\n",
       " 'WIX',\n",
       " 'PATH',\n",
       " 'DDOG']"
      ]
     },
     "execution_count": 12,
     "metadata": {},
     "output_type": "execute_result"
    }
   ],
   "source": [
    "def get_similar_symbols(*args, **kwargs):\n",
    "    \n",
    "    vectordb = kwargs.pop('vectordb')\n",
    "    keyword = kwargs.pop('keyword')\n",
    "    filter_list = kwargs.pop('filter_list')\n",
    "    k = kwargs.pop('k', 5)\n",
    "\n",
    "    docs = vectordb.similarity_search_with_score(keyword, k=k, filter={\n",
    "        '$or': filter_list\n",
    "        })\n",
    "    \n",
    "    symbol_list = []\n",
    "\n",
    "    for doc in docs:\n",
    "        symbol_list.append(doc[0].metadata['symbol'])\n",
    "        \n",
    "    return symbol_list\n",
    "\n",
    "keyword = \"Platform as a Service (PaaS) Companies that are involved in providing a platform for creating software applications which are delivered over the internet.\"\n",
    "\n",
    "get_similar_symbols(keyword=keyword, k=10)"
   ]
  }
 ],
 "metadata": {
  "kernelspec": {
   "display_name": "bt",
   "language": "python",
   "name": "python3"
  },
  "language_info": {
   "codemirror_mode": {
    "name": "ipython",
    "version": 3
   },
   "file_extension": ".py",
   "mimetype": "text/x-python",
   "name": "python",
   "nbconvert_exporter": "python",
   "pygments_lexer": "ipython3",
   "version": "3.10.12"
  },
  "orig_nbformat": 4
 },
 "nbformat": 4,
 "nbformat_minor": 2
}
