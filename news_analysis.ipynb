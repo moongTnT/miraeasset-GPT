{
 "cells": [
  {
   "cell_type": "code",
   "execution_count": 36,
   "metadata": {},
   "outputs": [
    {
     "name": "stdout",
     "output_type": "stream",
     "text": [
      "['AAPL', 'GOOGL', 'AMZN', 'MSFT', 'ERIC']\n"
     ]
    }
   ],
   "source": [
    "import yfinance as yf\n",
    "from data.fetch_data import fetch_pdf_info\n",
    "import pandas as pd\n",
    "\n",
    "my_etf_tkr = \"AIQ\"\n",
    "\n",
    "pdf_info = fetch_pdf_info(etf_tkr=my_etf_tkr)\n",
    "\n",
    "pdf_df = pd.DataFrame(pdf_info)\n",
    "\n",
    "tkr_list = pdf_df.sort_values(by=\"float_shares\", ascending=False).head().reset_index(drop=True)['child_stk_tkr'].to_list()\n",
    "\n",
    "stk_infos = yf.Tickers(tkr_list)\n",
    "\n"
   ]
  },
  {
   "cell_type": "code",
   "execution_count": 30,
   "metadata": {},
   "outputs": [
    {
     "name": "stderr",
     "output_type": "stream",
     "text": [
      "100%|██████████| 5/5 [00:02<00:00,  1.76it/s]\n"
     ]
    }
   ],
   "source": [
    "from tqdm.auto import tqdm\n",
    "\n",
    "dict_list = []\n",
    "\n",
    "for tkr in tqdm(tkr_list):\n",
    "    \n",
    "    a_tkr_dict = {}\n",
    "    \n",
    "    a_tkr_dict['stock'] = tkr\n",
    "\n",
    "    a_tkr_dict['news_titles'] = []\n",
    "\n",
    "    for news in stk_infos.tickers[tkr].news:\n",
    "        \n",
    "        a_tkr_dict['news_titles'].append(news['title'])\n",
    "\n",
    "    dict_list.append(a_tkr_dict)"
   ]
  },
  {
   "cell_type": "code",
   "execution_count": 31,
   "metadata": {},
   "outputs": [
    {
     "data": {
      "text/plain": [
       "'[{\\'stock\\': \\'AAPL\\', \\'news_titles\\': [\\'15 Most Bike Friendly Cities in the US\\', \\'Hollywood strikes, subscriber churn, sports rights: Big media woes\\', \\'Apple’s Impact Accelerator picks 2 Bay Area sustainability startups\\', \\'Why 3D Systems Stock Zoomed Higher Today\\', \\'5 Monopoly Stocks At the Top of Their Game\\', \\'Top Research Reports for Apple, Broadcom & Caterpillar\\', \\'Economy: We have a ‘goldilocks scenario,’ strategist says\\', \\'Apple Stock on Pace for Worst Month of the Year\\']}, {\\'stock\\': \\'GOOGL\\', \\'news_titles\\': [\"Privacy activist Schrems files complaints against Google\\'s Fitbit\", \\'Google introduces generative AI to Search in India, Japan\\', \"Google\\'s AI-powered search expands outside U.S. to India and Japan\", \\'Google is bringing its generative AI search engine to India, Japan\\', \"Factbox-Big names in Big Tech to attend AI forum of US Senate\\'s Schumer\", \\'Nvidia Partner Expects AI Server Sales to Double in 2024\\', \\'Don’t want to go to a work meeting? Google is testing an A.I. tool that can go for you\\', \\'Alphabet (GOOGL) Outpaces Stock Market Gains: What You Should Know\\']}, {\\'stock\\': \\'AMZN\\', \\'news_titles\\': [\\'Amazon, Shopify Strike Deal to Open\\\\xa0Amazon Logistics to Sellers\\', \"Shopify says merchants can use Amazon\\'s \\'Buy with Prime\\' option\", \"UPDATE 1-Shopify says merchants can use Amazon\\'s \\'Buy with Prime\\' option\", \\'Amazon Announces App Integration for Merchants to Enable Buy with Prime on Shopify Stores\\', \\'Economy: We have a ‘goldilocks scenario,’ strategist says\\', \"You Won\\'t Believe What Amazon CEO Said About Artificial Intelligence (AI)\", \"Nvidia just hit record highs, but stock may still be \\'cheap,\\' says analyst\", \"Amazon\\'s new move in battle with Walmart and Target may anger you\"]}, {\\'stock\\': \\'MSFT\\', \\'news_titles\\': [\\'Baidu, SenseTime Among First Firms to Win China AI Approval\\', \\'Earnings Quality: The Pillar of Sound Value Investing\\', \\'Google is bringing its generative AI search engine to India, Japan\\', \\'15 Biggest Startup Failures in the World\\', \"Factbox-Big names in Big Tech to attend AI forum of US Senate\\'s Schumer\", \\'PS5 Sales by Country: Top 15 Countries\\', \\'Don’t want to go to a work meeting? Google is testing an A.I. tool that can go for you\\', \\'Microsoft (MSFT) Gains But Lags Market: What You Should Know\\']}, {\\'stock\\': \\'ERIC\\', \\'news_titles\\': [\\'Ericsson Wins Google Cloud Industry Solution Technology Partner of the Year Award for Telecommunications\\', \\'Vonage Named 2023 Hot Vendor in Communication Automation Platforms by Aragon Research\\', \\'Ericsson works with AWS and Hitachi America R&D to showcase smart factory potential\\', \\'D&I Weekly News Round Up: Work Life, Mental Health, and More\\', \\'Ericsson (ERIC) Outpaces Stock Market Gains: What You Should Know\\', \\'Huawei renews 3G, 4G and 5G licensing deal with Swedish telecoms rival Ericsson in bid to monetise its tech patents\\', \\'Ericsson and Huawei renew global patent license agreement\\', \\'Donna Johnson appointed CMO for Cradlepoint and Head of Marketing for Ericsson’s Business Area Enterprise Wireless Solutions\\']}]'"
      ]
     },
     "execution_count": 31,
     "metadata": {},
     "output_type": "execute_result"
    }
   ],
   "source": [
    "str(dict_list)"
   ]
  },
  {
   "cell_type": "code",
   "execution_count": 32,
   "metadata": {},
   "outputs": [],
   "source": [
    "import os, json\n",
    "\n",
    "with open('conf.json', 'r') as f:\n",
    "    json_data = json.load(f)\n",
    "    \n",
    "os.environ['OPENAI_API_KEY'] = json_data['API_KEY']"
   ]
  },
  {
   "cell_type": "code",
   "execution_count": 33,
   "metadata": {},
   "outputs": [
    {
     "data": {
      "text/plain": [
       "AIMessage(content='주식 시장의 주요 테마를 파악하기 위해 AAPL, GOOGL, AMZN, MSFT 및 ERIC의 뉴스 헤드라인을 조사한 결과, 다음과 같은 주요 테마를 도출할 수 있습니다:\\n\\n1. 인공지능 (AI) 및 기계 학습 기술의 적용: AAPL, GOOGL, MSFT 등의 기업은 AI를 활용한 검색 엔진 및 기술 개발에 집중하고 있습니다.\\n\\n2. 지속 가능성 및 환경 문제: AAPL은 Impact Accelerator를 통해 환경 지속 가능성에 기여하는 스타트업을 지원하고 있습니다.\\n\\n3. 클라우드 컴퓨팅 및 플랫폼: MSFT와 ERIC은 AWS와의 협업 및 Google Cloud와의 기술 파트너로서 클라우드 인프라 및 솔루션을 개발하고 있습니다.\\n\\n4. 전자 상거래 및 온라인 플랫폼: AMZN과 Shopify는 판매자에게 Amazon Logistics 및 Prime 옵션을 제공하여 전자 상거래 영역에서 협력하고 있습니다.\\n\\n5. 글로벌 라이선스 및 특허: ERIC은 Huawei와 글로벌 특허 라이선스 계약을 갱신하며 기술적 협력을 이어가고 있습니다.\\n\\n6. 주식 시장 동향: AAPL은 올해 최악의 월을 기록하는 등 주식 시장에서 변동성이 큰 모습을 보이고 있습니다.\\n\\n7. AI 기술의 확장: GOOGL은 AI를 검색 엔진에 적용하고 인도와 일본에서도 서비스를 확장하고 있습니다.\\n\\n8. 통신 기술: ERIC은 통신 업계에서 기술 파트너로서 선정되고, 최근에는 통신 업계의 혁신을 위한 기술적 역량을 인정받았습니다.\\n\\n9. 경제 상황: \"골디락스 시나리오\"라는 용어를 사용하여 경제적 안정성을 강조하는 기사들이 다수 보도되었습니다.\\n\\n10. 기술 기업의 주가 움직임: AAPL, GOOGL, MSFT 및 ERIC은 주식 시장에서 주가 상승폭을 보이며 시장 성과를 앞섰습니다.\\n\\n이러한 테마들은 주식 투자자들이 기업의 비즈니스 전략과 주식 시장 동향을 파악하는 데 도움을 줄 수 있습니다.', additional_kwargs={}, example=False)"
      ]
     },
     "execution_count": 33,
     "metadata": {},
     "output_type": "execute_result"
    }
   ],
   "source": [
    "from langchain.prompts import ChatPromptTemplate\n",
    "from langchain.prompts.chat import SystemMessage, HumanMessagePromptTemplate\n",
    "\n",
    "template = ChatPromptTemplate.from_messages(\n",
    "    [\n",
    "        SystemMessage(\n",
    "            content=(\n",
    "                # \"You are now acting as an intelligent fund manager who is fluent in both English and Korean. I will provide you with news headlines for 8 different stock tickers. Your task is to identify the common themes or keywords that appear across all these different tickers, not just within each individual one. Please summarize these overarching themes in Korean, in a coherent format limited to 10 sentences. Ensure your response is tailored to be informative for stock investors and is presented in a professional manner.\"\n",
    "                \"You are now acting as an intelligent fund manager fluent in both English and Korean. I will provide you with news headlines of different stock tickers. Your task is to identify common themes that appear across all these different tickers, not just within each individual one. Please summarize these overarching themes in Korean, in a coherent format limited to 10 sentences. Ensure your response is tailored to be informative for stock investors and is presented in a professional manner. Additionally, please conclude your answer with a noun. don't answer in bullet points\"\n",
    "            )\n",
    "        ),\n",
    "        HumanMessagePromptTemplate.from_template(\"{text}\"),\n",
    "    ]\n",
    ")\n",
    "\n",
    "from langchain.chat_models import ChatOpenAI\n",
    "\n",
    "llm = ChatOpenAI(model=\"gpt-3.5-turbo\")\n",
    "llm(template.format_messages(text=str(dict_list)))"
   ]
  },
  {
   "cell_type": "code",
   "execution_count": null,
   "metadata": {},
   "outputs": [],
   "source": []
  },
  {
   "cell_type": "code",
   "execution_count": null,
   "metadata": {},
   "outputs": [],
   "source": []
  }
 ],
 "metadata": {
  "kernelspec": {
   "display_name": "Python 3",
   "language": "python",
   "name": "python3"
  },
  "language_info": {
   "codemirror_mode": {
    "name": "ipython",
    "version": 3
   },
   "file_extension": ".py",
   "mimetype": "text/x-python",
   "name": "python",
   "nbconvert_exporter": "python",
   "pygments_lexer": "ipython3",
   "version": "3.11.4"
  },
  "orig_nbformat": 4
 },
 "nbformat": 4,
 "nbformat_minor": 2
}
