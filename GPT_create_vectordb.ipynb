{
 "cells": [
  {
   "cell_type": "markdown",
   "metadata": {},
   "source": [
    "### 01 기업 비즈니스 개요를 Vector DataBase에 저장한다.\n",
    "- 기업 비즈니스 개요: yfinance에서 추출한다.\n",
    "- Vector Database: ChromaDB를 사용한다. \n",
    "- Metadata: where문 사용을 위해 부모 ETF를 넣어주어야 한다.\n",
    "- Database: 별도 DB 서버 X. 호스트 자체 저장장치에 저장한다."
   ]
  },
  {
   "cell_type": "code",
   "execution_count": 1,
   "metadata": {},
   "outputs": [],
   "source": [
    "from langchain.vectorstores import Chroma\n",
    "from langchain.embeddings import OpenAIEmbeddings\n",
    "from langchain.text_splitter import RecursiveCharacterTextSplitter\n",
    "from langchain.llms import OpenAI\n",
    "from langchain.chains import RetrievalQA\n",
    "from langchain.document_loaders import TextLoader\n",
    "from langchain.document_loaders import DirectoryLoader\n",
    "\n",
    "\n",
    "import os, json\n",
    "\n",
    "with open('conf.json', 'r') as f:\n",
    "    json_data = json.load(f)\n",
    "    \n",
    "os.environ['OPENAI_API_KEY'] = json_data['API_KEY']"
   ]
  },
  {
   "cell_type": "code",
   "execution_count": 2,
   "metadata": {},
   "outputs": [],
   "source": [
    "from data.fetch_data import fetch_data_from_db\n",
    "import pandas as pd\n",
    "\n",
    "query = \"\"\"\n",
    "    SELECT pdf.etf_tkr, pdf.child_stk_tkr\n",
    "        FROM os_pdf_info pdf\n",
    "        INNER JOIN os_stk_info stk\n",
    "        ON pdf.child_stk_tkr=stk.stk_tkr\n",
    "\"\"\"\n",
    "\n",
    "ticker_df = pd.DataFrame(fetch_data_from_db(query=query))\n",
    "\n",
    "ticker_list = list(set(ticker_df['child_stk_tkr'].to_list()))"
   ]
  },
  {
   "cell_type": "code",
   "execution_count": 3,
   "metadata": {},
   "outputs": [
    {
     "data": {
      "application/vnd.jupyter.widget-view+json": {
       "model_id": "d742873c8d5548868a69f8f312a105a6",
       "version_major": 2,
       "version_minor": 0
      },
      "text/plain": [
       "  0%|          | 0/712 [00:00<?, ?it/s]"
      ]
     },
     "metadata": {},
     "output_type": "display_data"
    }
   ],
   "source": [
    "import yfinance as yf\n",
    "from tqdm.auto import tqdm\n",
    "\n",
    "yf_stk_info = yf.Tickers(\" \".join(ticker_list))\n",
    "\n",
    "for t in tqdm(ticker_list):\n",
    "    \n",
    "    if os.path.isfile(f\"./stk_infos/{t}.json\"):\n",
    "        continue\n",
    "    \n",
    "    parent_etfs = ticker_df[ticker_df['child_stk_tkr']==t]['etf_tkr'].to_list()\n",
    "    \n",
    "    yf_stk_info.tickers[t].info['parent_etfs'] = parent_etfs\n",
    "    \n",
    "    with open(f'./stk_infos/{t}.json', 'w') as f:\n",
    "        json.dump(yf_stk_info.tickers[t].info, f, indent=4)"
   ]
  },
  {
   "cell_type": "code",
   "execution_count": 7,
   "metadata": {},
   "outputs": [
    {
     "data": {
      "text/plain": [
       "712"
      ]
     },
     "execution_count": 7,
     "metadata": {},
     "output_type": "execute_result"
    }
   ],
   "source": [
    "from langchain.document_loaders import JSONLoader\n",
    "\n",
    "def metadata_func(record: dict, metadata: dict) -> dict:\n",
    "        \n",
    "    for k, v in record.items():\n",
    "        if k=='longBusinessSummary':\n",
    "            continue\n",
    "        \n",
    "        if k == 'parent_etfs':\n",
    "            metadata[k] = \",\".join(record.get(k))\n",
    "        \n",
    "        if type(record.get(k)) not in [str, int, float]:\n",
    "            continue\n",
    "        \n",
    "        metadata[k] = record.get(k)\n",
    "\n",
    "    return metadata\n",
    "\n",
    "loader = DirectoryLoader('./stk_infos',\n",
    "                         glob='*.json', \n",
    "                         loader_cls=JSONLoader, \n",
    "                         loader_kwargs={'jq_schema': '.', 'content_key': 'longBusinessSummary', 'metadata_func': metadata_func})\n",
    "\n",
    "documents = loader.load()\n",
    "\n",
    "len(documents)"
   ]
  },
  {
   "cell_type": "code",
   "execution_count": 8,
   "metadata": {},
   "outputs": [
    {
     "data": {
      "text/plain": [
       "712"
      ]
     },
     "metadata": {},
     "output_type": "display_data"
    }
   ],
   "source": [
    "text_splitter = RecursiveCharacterTextSplitter(chunk_size=10000, chunk_overlap=200) #1000자 씩 끊되, 200자 씩 겹치게 만든다.\n",
    "texts = text_splitter.split_documents(documents)\n",
    "\n",
    "display(len(texts))"
   ]
  },
  {
   "cell_type": "code",
   "execution_count": 11,
   "metadata": {},
   "outputs": [],
   "source": [
    "persist_directory='db'\n",
    "\n",
    "embedding = OpenAIEmbeddings(\n",
    "    model='text-embedding-ada-002'\n",
    ")\n",
    "\n",
    "vectordb = Chroma.from_documents(\n",
    "    documents=texts,\n",
    "    embedding=embedding,\n",
    "    persist_directory=persist_directory,\n",
    ")\n",
    "\n",
    "# vectordb.persist() # 초기화\n",
    "# vectordb=None"
   ]
  },
  {
   "cell_type": "code",
   "execution_count": null,
   "metadata": {},
   "outputs": [],
   "source": []
  }
 ],
 "metadata": {
  "kernelspec": {
   "display_name": "Python 3",
   "language": "python",
   "name": "python3"
  },
  "language_info": {
   "codemirror_mode": {
    "name": "ipython",
    "version": 3
   },
   "file_extension": ".py",
   "mimetype": "text/x-python",
   "name": "python",
   "nbconvert_exporter": "python",
   "pygments_lexer": "ipython3",
   "version": "3.10.12"
  },
  "orig_nbformat": 4
 },
 "nbformat": 4,
 "nbformat_minor": 2
}
