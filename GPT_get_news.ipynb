{
 "cells": [
  {
   "cell_type": "code",
   "execution_count": 14,
   "metadata": {},
   "outputs": [],
   "source": [
    "import yfinance as yf\n",
    "from data.fetch_data import fetch_pdf_info, fetch_data_from_db\n",
    "import pandas as pd\n",
    "\n",
    "sql = \"\"\"\n",
    "    select etf_tkr from os_index_info;\n",
    "\"\"\"\n",
    "\n",
    "os_index_info = fetch_data_from_db(query=sql)"
   ]
  },
  {
   "cell_type": "code",
   "execution_count": 15,
   "metadata": {},
   "outputs": [],
   "source": [
    "etf_tkr_list = pd.DataFrame(os_index_info).etf_tkr.to_list()"
   ]
  },
  {
   "cell_type": "code",
   "execution_count": 16,
   "metadata": {},
   "outputs": [
    {
     "name": "stderr",
     "output_type": "stream",
     "text": [
      "100%|██████████| 5/5 [00:02<00:00,  2.33it/s]\n",
      "100%|██████████| 5/5 [00:02<00:00,  2.15it/s]]\n",
      "100%|██████████| 5/5 [00:02<00:00,  2.41it/s]]\n",
      "100%|██████████| 5/5 [00:02<00:00,  2.33it/s]]\n",
      "100%|██████████| 5/5 [00:01<00:00,  2.73it/s]]\n",
      "100%|██████████| 5/5 [00:02<00:00,  2.29it/s]]\n",
      "100%|██████████| 5/5 [00:02<00:00,  1.97it/s]]\n",
      "100%|██████████| 1/1 [00:00<00:00,  2.31it/s]]\n",
      "100%|██████████| 5/5 [00:02<00:00,  2.45it/s]]\n",
      "100%|██████████| 5/5 [00:02<00:00,  2.29it/s]]\n",
      "100%|██████████| 5/5 [00:02<00:00,  2.28it/s]t]\n",
      "100%|██████████| 5/5 [00:02<00:00,  1.88it/s]t]\n",
      "100%|██████████| 5/5 [00:02<00:00,  1.92it/s]t]\n",
      "100%|██████████| 5/5 [00:02<00:00,  2.13it/s]t]\n",
      "100%|██████████| 5/5 [00:02<00:00,  2.23it/s]t]\n",
      "100%|██████████| 5/5 [00:01<00:00,  2.56it/s]t]\n",
      "100%|██████████| 5/5 [00:02<00:00,  2.26it/s]t]\n",
      "100%|██████████| 5/5 [00:02<00:00,  2.10it/s]t]\n",
      "100%|██████████| 5/5 [00:02<00:00,  2.40it/s]t]\n",
      "100%|██████████| 5/5 [00:02<00:00,  2.39it/s]t]\n",
      "100%|██████████| 5/5 [00:02<00:00,  2.46it/s]t]\n",
      "100%|██████████| 5/5 [00:02<00:00,  2.09it/s]t]\n",
      "100%|██████████| 5/5 [00:01<00:00,  2.73it/s]t]\n",
      "100%|██████████| 5/5 [00:01<00:00,  2.64it/s]t]\n",
      "100%|██████████| 5/5 [00:02<00:00,  2.50it/s]t]\n",
      "100%|██████████| 5/5 [00:02<00:00,  2.49it/s]t]\n",
      "100%|██████████| 5/5 [00:02<00:00,  2.41it/s]t]\n",
      "100%|██████████| 5/5 [00:02<00:00,  2.41it/s]t]\n",
      "100%|██████████| 5/5 [00:02<00:00,  2.20it/s]t]\n",
      "100%|██████████| 5/5 [00:01<00:00,  2.56it/s]t]\n",
      "100%|██████████| 5/5 [00:02<00:00,  2.47it/s]t]\n",
      "100%|██████████| 5/5 [00:02<00:00,  2.21it/s]t]\n",
      "100%|██████████| 5/5 [00:01<00:00,  3.03it/s]t]\n",
      "100%|██████████| 2/2 [00:00<00:00,  2.31it/s]t]\n",
      "100%|██████████| 34/34 [01:11<00:00,  2.11s/it]\n"
     ]
    }
   ],
   "source": [
    "from tqdm.auto import tqdm\n",
    "import json\n",
    "\n",
    "\n",
    "my_etf_tkr = \"BKCH\"\n",
    "\n",
    "def get_tkr_list(my_etf_tkr):\n",
    "\n",
    "    pdf_info = fetch_pdf_info(etf_tkr=my_etf_tkr)\n",
    "\n",
    "    pdf_df = pd.DataFrame(pdf_info)\n",
    "\n",
    "    tkr_list = pdf_df.sort_values(by=\"float_shares\", ascending=False).head().reset_index(drop=True)['child_stk_tkr'].to_list()\n",
    "\n",
    "    return tkr_list\n",
    "\n",
    "for etf_tkr in tqdm(etf_tkr_list):\n",
    "\n",
    "    tkr_list = get_tkr_list(my_etf_tkr=etf_tkr)\n",
    "\n",
    "    stk_infos = yf.Tickers(tkr_list)\n",
    "\n",
    "    dict_list = []\n",
    "\n",
    "    for tkr in tqdm(tkr_list):\n",
    "\n",
    "        a_tkr_dict = {}\n",
    "\n",
    "        a_tkr_dict['stock'] = tkr\n",
    "\n",
    "        a_tkr_dict['news_titles'] = []\n",
    "\n",
    "        for news in stk_infos.tickers[tkr].news:\n",
    "\n",
    "            a_tkr_dict['news_titles'].append(news['title'])\n",
    "\n",
    "        dict_list.append(a_tkr_dict)\n",
    "\n",
    "    etf_news_dict = {}\n",
    "    etf_news_dict[f'{etf_tkr}_news'] = dict_list\n",
    "\n",
    "    with open(f'./etf_news_infos/{etf_tkr}.json', 'w') as outfile:\n",
    "        json.dump(etf_news_dict, outfile, indent='\\t', ensure_ascii=False)"
   ]
  }
 ],
 "metadata": {
  "kernelspec": {
   "display_name": "Python 3",
   "language": "python",
   "name": "python3"
  },
  "language_info": {
   "codemirror_mode": {
    "name": "ipython",
    "version": 3
   },
   "file_extension": ".py",
   "mimetype": "text/x-python",
   "name": "python",
   "nbconvert_exporter": "python",
   "pygments_lexer": "ipython3",
   "version": "3.10.12"
  },
  "orig_nbformat": 4
 },
 "nbformat": 4,
 "nbformat_minor": 2
}
