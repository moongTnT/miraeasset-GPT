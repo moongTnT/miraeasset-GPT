{
 "cells": [
  {
   "cell_type": "code",
   "execution_count": 1,
   "metadata": {},
   "outputs": [],
   "source": [
    "from data.fetch_data import fetch_theme_info\n",
    "import pandas as pd\n",
    "\n",
    "etf_list = pd.DataFrame(fetch_theme_info()).etf_tkr.to_list()"
   ]
  },
  {
   "cell_type": "code",
   "execution_count": 2,
   "metadata": {},
   "outputs": [
    {
     "data": {
      "application/vnd.jupyter.widget-view+json": {
       "model_id": "f73e26ed83a2423f8401ee4c371b8ac1",
       "version_major": 2,
       "version_minor": 0
      },
      "text/plain": [
       "  0%|          | 0/47 [00:00<?, ?it/s]"
      ]
     },
     "metadata": {},
     "output_type": "display_data"
    },
    {
     "name": "stdout",
     "output_type": "stream",
     "text": [
      "error with  Bank\n",
      "error with  Cannabis\n",
      "error with  Carbon\n",
      "error with  Climate\n",
      "error with  Cloud Computing\n"
     ]
    },
    {
     "ename": "ValueError",
     "evalue": "Expected where value for $and or $or to be a list with at least two where expressions, got []",
     "output_type": "error",
     "traceback": [
      "\u001b[0;31m---------------------------------------------------------------------------\u001b[0m",
      "\u001b[0;31mValueError\u001b[0m                                Traceback (most recent call last)",
      "\u001b[1;32m/home/moongtnt/final_test/miraeasset-GPT/get_similar_stocks.ipynb Cell 2\u001b[0m line \u001b[0;36m2\n\u001b[1;32m     <a href='vscode-notebook-cell://wsl%2Bubuntu/home/moongtnt/final_test/miraeasset-GPT/get_similar_stocks.ipynb#W1sdnNjb2RlLXJlbW90ZQ%3D%3D?line=23'>24</a>\u001b[0m keyword \u001b[39m=\u001b[39m subcateogry[\u001b[39m\"\u001b[39m\u001b[39mdescription\u001b[39m\u001b[39m\"\u001b[39m]\n\u001b[1;32m     <a href='vscode-notebook-cell://wsl%2Bubuntu/home/moongtnt/final_test/miraeasset-GPT/get_similar_stocks.ipynb#W1sdnNjb2RlLXJlbW90ZQ%3D%3D?line=25'>26</a>\u001b[0m \u001b[39m#  여기서 병목 현상 걸리는 이슈 발생\u001b[39;00m\n\u001b[0;32m---> <a href='vscode-notebook-cell://wsl%2Bubuntu/home/moongtnt/final_test/miraeasset-GPT/get_similar_stocks.ipynb#W1sdnNjb2RlLXJlbW90ZQ%3D%3D?line=26'>27</a>\u001b[0m similar_stk_list \u001b[39m=\u001b[39m get_similar_symbols( \n\u001b[1;32m     <a href='vscode-notebook-cell://wsl%2Bubuntu/home/moongtnt/final_test/miraeasset-GPT/get_similar_stocks.ipynb#W1sdnNjb2RlLXJlbW90ZQ%3D%3D?line=27'>28</a>\u001b[0m     vectordb\u001b[39m=\u001b[39;49mvectordb,\n\u001b[1;32m     <a href='vscode-notebook-cell://wsl%2Bubuntu/home/moongtnt/final_test/miraeasset-GPT/get_similar_stocks.ipynb#W1sdnNjb2RlLXJlbW90ZQ%3D%3D?line=28'>29</a>\u001b[0m     keyword\u001b[39m=\u001b[39;49mkeyword,\n\u001b[1;32m     <a href='vscode-notebook-cell://wsl%2Bubuntu/home/moongtnt/final_test/miraeasset-GPT/get_similar_stocks.ipynb#W1sdnNjb2RlLXJlbW90ZQ%3D%3D?line=29'>30</a>\u001b[0m     filter_list\u001b[39m=\u001b[39;49mfilter_list,\n\u001b[1;32m     <a href='vscode-notebook-cell://wsl%2Bubuntu/home/moongtnt/final_test/miraeasset-GPT/get_similar_stocks.ipynb#W1sdnNjb2RlLXJlbW90ZQ%3D%3D?line=30'>31</a>\u001b[0m     k\u001b[39m=\u001b[39;49m\u001b[39m5\u001b[39;49m,\n\u001b[1;32m     <a href='vscode-notebook-cell://wsl%2Bubuntu/home/moongtnt/final_test/miraeasset-GPT/get_similar_stocks.ipynb#W1sdnNjb2RlLXJlbW90ZQ%3D%3D?line=31'>32</a>\u001b[0m )\n\u001b[1;32m     <a href='vscode-notebook-cell://wsl%2Bubuntu/home/moongtnt/final_test/miraeasset-GPT/get_similar_stocks.ipynb#W1sdnNjb2RlLXJlbW90ZQ%3D%3D?line=33'>34</a>\u001b[0m subcateogry[\u001b[39m'\u001b[39m\u001b[39mstk_list\u001b[39m\u001b[39m'\u001b[39m] \u001b[39m=\u001b[39m similar_stk_list\n\u001b[1;32m     <a href='vscode-notebook-cell://wsl%2Bubuntu/home/moongtnt/final_test/miraeasset-GPT/get_similar_stocks.ipynb#W1sdnNjb2RlLXJlbW90ZQ%3D%3D?line=35'>36</a>\u001b[0m json_data[\u001b[39m'\u001b[39m\u001b[39msubcategory_lists\u001b[39m\u001b[39m'\u001b[39m][i] \u001b[39m=\u001b[39m subcateogry\n",
      "File \u001b[0;32m~/final_test/miraeasset-GPT/core/gpt_semantic_search.py:59\u001b[0m, in \u001b[0;36mget_similar_symbols\u001b[0;34m(*args, **kwargs)\u001b[0m\n\u001b[1;32m     56\u001b[0m filter_list \u001b[39m=\u001b[39m kwargs\u001b[39m.\u001b[39mpop(\u001b[39m'\u001b[39m\u001b[39mfilter_list\u001b[39m\u001b[39m'\u001b[39m)\n\u001b[1;32m     57\u001b[0m k \u001b[39m=\u001b[39m kwargs\u001b[39m.\u001b[39mpop(\u001b[39m'\u001b[39m\u001b[39mk\u001b[39m\u001b[39m'\u001b[39m, \u001b[39m5\u001b[39m)\n\u001b[0;32m---> 59\u001b[0m docs \u001b[39m=\u001b[39m vectordb\u001b[39m.\u001b[39;49msimilarity_search_with_score(keyword, k\u001b[39m=\u001b[39;49mk, \u001b[39mfilter\u001b[39;49m\u001b[39m=\u001b[39;49m{\n\u001b[1;32m     60\u001b[0m     \u001b[39m'\u001b[39;49m\u001b[39m$or\u001b[39;49m\u001b[39m'\u001b[39;49m: filter_list\n\u001b[1;32m     61\u001b[0m     })\n\u001b[1;32m     63\u001b[0m symbol_list \u001b[39m=\u001b[39m []\n\u001b[1;32m     65\u001b[0m \u001b[39mfor\u001b[39;00m doc \u001b[39min\u001b[39;00m docs:\n",
      "File \u001b[0;32m~/.local/lib/python3.10/site-packages/langchain/vectorstores/chroma.py:332\u001b[0m, in \u001b[0;36mChroma.similarity_search_with_score\u001b[0;34m(self, query, k, filter, **kwargs)\u001b[0m\n\u001b[1;32m    330\u001b[0m \u001b[39melse\u001b[39;00m:\n\u001b[1;32m    331\u001b[0m     query_embedding \u001b[39m=\u001b[39m \u001b[39mself\u001b[39m\u001b[39m.\u001b[39m_embedding_function\u001b[39m.\u001b[39membed_query(query)\n\u001b[0;32m--> 332\u001b[0m     results \u001b[39m=\u001b[39m \u001b[39mself\u001b[39;49m\u001b[39m.\u001b[39;49m__query_collection(\n\u001b[1;32m    333\u001b[0m         query_embeddings\u001b[39m=\u001b[39;49m[query_embedding], n_results\u001b[39m=\u001b[39;49mk, where\u001b[39m=\u001b[39;49m\u001b[39mfilter\u001b[39;49m\n\u001b[1;32m    334\u001b[0m     )\n\u001b[1;32m    336\u001b[0m \u001b[39mreturn\u001b[39;00m _results_to_docs_and_scores(results)\n",
      "File \u001b[0;32m~/.local/lib/python3.10/site-packages/langchain/utils/utils.py:31\u001b[0m, in \u001b[0;36mxor_args.<locals>.decorator.<locals>.wrapper\u001b[0;34m(*args, **kwargs)\u001b[0m\n\u001b[1;32m     25\u001b[0m     invalid_group_names \u001b[39m=\u001b[39m [\u001b[39m\"\u001b[39m\u001b[39m, \u001b[39m\u001b[39m\"\u001b[39m\u001b[39m.\u001b[39mjoin(arg_groups[i]) \u001b[39mfor\u001b[39;00m i \u001b[39min\u001b[39;00m invalid_groups]\n\u001b[1;32m     26\u001b[0m     \u001b[39mraise\u001b[39;00m \u001b[39mValueError\u001b[39;00m(\n\u001b[1;32m     27\u001b[0m         \u001b[39m\"\u001b[39m\u001b[39mExactly one argument in each of the following\u001b[39m\u001b[39m\"\u001b[39m\n\u001b[1;32m     28\u001b[0m         \u001b[39m\"\u001b[39m\u001b[39m groups must be defined:\u001b[39m\u001b[39m\"\u001b[39m\n\u001b[1;32m     29\u001b[0m         \u001b[39mf\u001b[39m\u001b[39m\"\u001b[39m\u001b[39m \u001b[39m\u001b[39m{\u001b[39;00m\u001b[39m'\u001b[39m\u001b[39m, \u001b[39m\u001b[39m'\u001b[39m\u001b[39m.\u001b[39mjoin(invalid_group_names)\u001b[39m}\u001b[39;00m\u001b[39m\"\u001b[39m\n\u001b[1;32m     30\u001b[0m     )\n\u001b[0;32m---> 31\u001b[0m \u001b[39mreturn\u001b[39;00m func(\u001b[39m*\u001b[39;49margs, \u001b[39m*\u001b[39;49m\u001b[39m*\u001b[39;49mkwargs)\n",
      "File \u001b[0;32m~/.local/lib/python3.10/site-packages/langchain/vectorstores/chroma.py:155\u001b[0m, in \u001b[0;36mChroma.__query_collection\u001b[0;34m(self, query_texts, query_embeddings, n_results, where, **kwargs)\u001b[0m\n\u001b[1;32m    150\u001b[0m \u001b[39mexcept\u001b[39;00m \u001b[39mImportError\u001b[39;00m:\n\u001b[1;32m    151\u001b[0m     \u001b[39mraise\u001b[39;00m \u001b[39mValueError\u001b[39;00m(\n\u001b[1;32m    152\u001b[0m         \u001b[39m\"\u001b[39m\u001b[39mCould not import chromadb python package. \u001b[39m\u001b[39m\"\u001b[39m\n\u001b[1;32m    153\u001b[0m         \u001b[39m\"\u001b[39m\u001b[39mPlease install it with `pip install chromadb`.\u001b[39m\u001b[39m\"\u001b[39m\n\u001b[1;32m    154\u001b[0m     )\n\u001b[0;32m--> 155\u001b[0m \u001b[39mreturn\u001b[39;00m \u001b[39mself\u001b[39;49m\u001b[39m.\u001b[39;49m_collection\u001b[39m.\u001b[39;49mquery(\n\u001b[1;32m    156\u001b[0m     query_texts\u001b[39m=\u001b[39;49mquery_texts,\n\u001b[1;32m    157\u001b[0m     query_embeddings\u001b[39m=\u001b[39;49mquery_embeddings,\n\u001b[1;32m    158\u001b[0m     n_results\u001b[39m=\u001b[39;49mn_results,\n\u001b[1;32m    159\u001b[0m     where\u001b[39m=\u001b[39;49mwhere,\n\u001b[1;32m    160\u001b[0m     \u001b[39m*\u001b[39;49m\u001b[39m*\u001b[39;49mkwargs,\n\u001b[1;32m    161\u001b[0m )\n",
      "File \u001b[0;32m~/.local/lib/python3.10/site-packages/chromadb/api/models/Collection.py:180\u001b[0m, in \u001b[0;36mCollection.query\u001b[0;34m(self, query_embeddings, query_texts, n_results, where, where_document, include)\u001b[0m\n\u001b[1;32m    153\u001b[0m \u001b[39mdef\u001b[39;00m \u001b[39mquery\u001b[39m(\n\u001b[1;32m    154\u001b[0m     \u001b[39mself\u001b[39m,\n\u001b[1;32m    155\u001b[0m     query_embeddings: Optional[OneOrMany[Embedding]] \u001b[39m=\u001b[39m \u001b[39mNone\u001b[39;00m,\n\u001b[0;32m   (...)\u001b[0m\n\u001b[1;32m    160\u001b[0m     include: Include \u001b[39m=\u001b[39m [\u001b[39m\"\u001b[39m\u001b[39mmetadatas\u001b[39m\u001b[39m\"\u001b[39m, \u001b[39m\"\u001b[39m\u001b[39mdocuments\u001b[39m\u001b[39m\"\u001b[39m, \u001b[39m\"\u001b[39m\u001b[39mdistances\u001b[39m\u001b[39m\"\u001b[39m],\n\u001b[1;32m    161\u001b[0m ) \u001b[39m-\u001b[39m\u001b[39m>\u001b[39m QueryResult:\n\u001b[1;32m    162\u001b[0m \u001b[39m    \u001b[39m\u001b[39m\"\"\"Get the n_results nearest neighbor embeddings for provided query_embeddings or query_texts.\u001b[39;00m\n\u001b[1;32m    163\u001b[0m \n\u001b[1;32m    164\u001b[0m \u001b[39m    Args:\u001b[39;00m\n\u001b[0;32m   (...)\u001b[0m\n\u001b[1;32m    178\u001b[0m \n\u001b[1;32m    179\u001b[0m \u001b[39m    \"\"\"\u001b[39;00m\n\u001b[0;32m--> 180\u001b[0m     where \u001b[39m=\u001b[39m validate_where(where) \u001b[39mif\u001b[39;00m where \u001b[39melse\u001b[39;00m \u001b[39mNone\u001b[39;00m\n\u001b[1;32m    181\u001b[0m     where_document \u001b[39m=\u001b[39m (\n\u001b[1;32m    182\u001b[0m         validate_where_document(where_document) \u001b[39mif\u001b[39;00m where_document \u001b[39melse\u001b[39;00m \u001b[39mNone\u001b[39;00m\n\u001b[1;32m    183\u001b[0m     )\n\u001b[1;32m    184\u001b[0m     query_embeddings \u001b[39m=\u001b[39m (\n\u001b[1;32m    185\u001b[0m         validate_embeddings(maybe_cast_one_to_many(query_embeddings))\n\u001b[1;32m    186\u001b[0m         \u001b[39mif\u001b[39;00m query_embeddings \u001b[39mis\u001b[39;00m \u001b[39mnot\u001b[39;00m \u001b[39mNone\u001b[39;00m\n\u001b[1;32m    187\u001b[0m         \u001b[39melse\u001b[39;00m \u001b[39mNone\u001b[39;00m\n\u001b[1;32m    188\u001b[0m     )\n",
      "File \u001b[0;32m~/.local/lib/python3.10/site-packages/chromadb/api/types.py:223\u001b[0m, in \u001b[0;36mvalidate_where\u001b[0;34m(where)\u001b[0m\n\u001b[1;32m    219\u001b[0m     \u001b[39mraise\u001b[39;00m \u001b[39mValueError\u001b[39;00m(\n\u001b[1;32m    220\u001b[0m         \u001b[39mf\u001b[39m\u001b[39m\"\u001b[39m\u001b[39mExpected where value for $and or $or to be a list of where expressions, got \u001b[39m\u001b[39m{\u001b[39;00mvalue\u001b[39m}\u001b[39;00m\u001b[39m\"\u001b[39m\n\u001b[1;32m    221\u001b[0m     )\n\u001b[1;32m    222\u001b[0m \u001b[39mif\u001b[39;00m \u001b[39mlen\u001b[39m(value) \u001b[39m<\u001b[39m\u001b[39m=\u001b[39m \u001b[39m1\u001b[39m:\n\u001b[0;32m--> 223\u001b[0m     \u001b[39mraise\u001b[39;00m \u001b[39mValueError\u001b[39;00m(\n\u001b[1;32m    224\u001b[0m         \u001b[39mf\u001b[39m\u001b[39m\"\u001b[39m\u001b[39mExpected where value for $and or $or to be a list with at least two where expressions, got \u001b[39m\u001b[39m{\u001b[39;00mvalue\u001b[39m}\u001b[39;00m\u001b[39m\"\u001b[39m\n\u001b[1;32m    225\u001b[0m     )\n\u001b[1;32m    226\u001b[0m \u001b[39mfor\u001b[39;00m where_expression \u001b[39min\u001b[39;00m value:\n\u001b[1;32m    227\u001b[0m     validate_where(where_expression)\n",
      "\u001b[0;31mValueError\u001b[0m: Expected where value for $and or $or to be a list with at least two where expressions, got []"
     ]
    }
   ],
   "source": [
    "import json\n",
    "from core.gpt_semantic_search import get_vectordb, get_filter, get_similar_symbols\n",
    "from tqdm.auto import tqdm\n",
    "\n",
    "err_list = []\n",
    "\n",
    "for tkr in tqdm(etf_list):\n",
    "    \n",
    "    try:\n",
    "    \n",
    "        with open(f'etf_subcategory_infos/{tkr}.json', 'r') as f:\n",
    "            json_data = json.load(f)\n",
    "            \n",
    "    except:\n",
    "        print(\"error with \", tkr)\n",
    "        err_list.append(tkr)\n",
    "    \n",
    "    vectordb = get_vectordb()\n",
    "    \n",
    "    filter_list = get_filter(etf_tkr=tkr)\n",
    "    \n",
    "    for i, subcateogry in enumerate(json_data['subcategory_lists']):\n",
    "        \n",
    "        keyword = subcateogry[\"description\"]\n",
    "        \n",
    "        #  여기서 병목 현상 걸리는 이슈 발생\n",
    "        similar_stk_list = get_similar_symbols( \n",
    "            vectordb=vectordb,\n",
    "            keyword=keyword,\n",
    "            filter_list=filter_list,\n",
    "            k=5,\n",
    "        )\n",
    "        \n",
    "        subcateogry['stk_list'] = similar_stk_list\n",
    "        \n",
    "        json_data['subcategory_lists'][i] = subcateogry\n",
    "        \n",
    "    with open(f'./etf_subcategory_infos/{tkr}.json', 'w') as outfile:\n",
    "        json.dump(json_data, outfile, indent='\\t', ensure_ascii=False)\n",
    "        \n",
    "    # display(json_data)\n",
    "    \n",
    "    # break"
   ]
  },
  {
   "cell_type": "code",
   "execution_count": null,
   "metadata": {},
   "outputs": [],
   "source": []
  }
 ],
 "metadata": {
  "kernelspec": {
   "display_name": "bt",
   "language": "python",
   "name": "python3"
  },
  "language_info": {
   "codemirror_mode": {
    "name": "ipython",
    "version": 3
   },
   "file_extension": ".py",
   "mimetype": "text/x-python",
   "name": "python",
   "nbconvert_exporter": "python",
   "pygments_lexer": "ipython3",
   "version": "3.10.12"
  },
  "orig_nbformat": 4
 },
 "nbformat": 4,
 "nbformat_minor": 2
}
