{
 "cells": [
  {
   "cell_type": "code",
   "execution_count": 3,
   "metadata": {},
   "outputs": [],
   "source": [
    "from data.fetch_data import fetch_theme_info\n",
    "import pandas as pd\n",
    "\n",
    "etf_list = pd.DataFrame(fetch_theme_info()).etf_tkr.to_list()"
   ]
  },
  {
   "cell_type": "code",
   "execution_count": 10,
   "metadata": {},
   "outputs": [
    {
     "data": {
      "application/vnd.jupyter.widget-view+json": {
       "model_id": "bcfe6fa0dc1a43c888da92ab3ce488a3",
       "version_major": 2,
       "version_minor": 0
      },
      "text/plain": [
       "  0%|          | 0/33 [00:00<?, ?it/s]"
      ]
     },
     "metadata": {},
     "output_type": "display_data"
    },
    {
     "name": "stdout",
     "output_type": "stream",
     "text": [
      "error with  RAYS\n",
      "error with  RNRG\n"
     ]
    }
   ],
   "source": [
    "import json\n",
    "from core.gpt_semantic_search import get_vectordb, get_filter, get_similar_symbols\n",
    "from tqdm.auto import tqdm\n",
    "\n",
    "err_list = []\n",
    "\n",
    "for tkr in tqdm(etf_list):\n",
    "    \n",
    "    try:\n",
    "    \n",
    "        with open(f'etf_subcategory_infos/{tkr}.json', 'r') as f:\n",
    "            json_data = json.load(f)\n",
    "            \n",
    "    except:\n",
    "        print(\"error with \", tkr)\n",
    "        err_list.append(tkr)\n",
    "    \n",
    "    vectordb = get_vectordb()\n",
    "    \n",
    "    filter_list = get_filter(etf_tkr=tkr)\n",
    "    \n",
    "    for i, subcateogry in enumerate(json_data['subcategory_lists']):\n",
    "        \n",
    "        keyword = subcateogry[\"description\"]\n",
    "        \n",
    "        #  여기서 병목 현상 걸리는 이슈 발생\n",
    "        similar_stk_list = get_similar_symbols( \n",
    "            vectordb=vectordb,\n",
    "            keyword=keyword,\n",
    "            filter_list=filter_list,\n",
    "            k=5,\n",
    "        )\n",
    "        \n",
    "        subcateogry['stk_list'] = similar_stk_list\n",
    "        \n",
    "        json_data['subcategory_lists'][i] = subcateogry\n",
    "        \n",
    "    with open(f'./etf_subcategory_infos/{tkr}.json', 'w') as outfile:\n",
    "        json.dump(json_data, outfile, indent='\\t', ensure_ascii=False)\n",
    "        \n",
    "    # display(json_data)\n",
    "    \n",
    "    # break"
   ]
  },
  {
   "cell_type": "code",
   "execution_count": null,
   "metadata": {},
   "outputs": [],
   "source": []
  }
 ],
 "metadata": {
  "kernelspec": {
   "display_name": "bt",
   "language": "python",
   "name": "python3"
  },
  "language_info": {
   "codemirror_mode": {
    "name": "ipython",
    "version": 3
   },
   "file_extension": ".py",
   "mimetype": "text/x-python",
   "name": "python",
   "nbconvert_exporter": "python",
   "pygments_lexer": "ipython3",
   "version": "3.10.12"
  },
  "orig_nbformat": 4
 },
 "nbformat": 4,
 "nbformat_minor": 2
}
